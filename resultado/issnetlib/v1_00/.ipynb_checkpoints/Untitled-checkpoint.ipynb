{
 "cells": [
  {
   "cell_type": "code",
   "execution_count": 11,
   "metadata": {},
   "outputs": [],
   "source": [
    "import servico_enviar_lote_rps_envio as enviar_lote_rps_envio\n"
   ]
  },
  {
   "cell_type": "code",
   "execution_count": 12,
   "metadata": {},
   "outputs": [],
   "source": [
    "import sys\n"
   ]
  },
  {
   "cell_type": "code",
   "execution_count": 13,
   "metadata": {},
   "outputs": [],
   "source": [
    "etree = enviar_lote_rps_envio.parsexml_('nfse.xml')"
   ]
  },
  {
   "cell_type": "code",
   "execution_count": 16,
   "metadata": {},
   "outputs": [],
   "source": [
    "obj = enviar_lote_rps_envio.EnviarLoteRpsEnvio.factory().build(etree.getroot())"
   ]
  },
  {
   "cell_type": "code",
   "execution_count": 59,
   "metadata": {},
   "outputs": [
    {
     "name": "stdout",
     "output_type": "stream",
     "text": [
      "<tc:InfRps id=\"rps50\">\n",
      "    <tc:IdentificacaoRps>\n",
      "        <tc:Numero>50</tc:Numero>\n",
      "        <tc:Serie>001</tc:Serie>\n",
      "        <tc:Tipo>1</tc:Tipo>\n",
      "    </tc:IdentificacaoRps>\n",
      "    <tc:DataEmissao>2020-06-04T13:58:46</tc:DataEmissao>\n",
      "    <tc:NaturezaOperacao>1</tc:NaturezaOperacao>\n",
      "    <tc:RegimeEspecialTributacao>1</tc:RegimeEspecialTributacao>\n",
      "    <tc:OptanteSimplesNacional>1</tc:OptanteSimplesNacional>\n",
      "    <tc:IncentivadorCultural>2</tc:IncentivadorCultural>\n",
      "    <tc:Status>1</tc:Status>\n",
      "    <tc:Servico>\n",
      "        <tc:Valores>\n",
      "            <tc:ValorServicos>100</tc:ValorServicos>\n",
      "            <tc:ValorDeducoes>0</tc:ValorDeducoes>\n",
      "            <tc:ValorPis>0</tc:ValorPis>\n",
      "            <tc:ValorCofins>0</tc:ValorCofins>\n",
      "            <tc:ValorInss>0</tc:ValorInss>\n",
      "            <tc:ValorIr>0</tc:ValorIr>\n",
      "            <tc:ValorCsll>0</tc:ValorCsll>\n",
      "            <tc:IssRetido>2</tc:IssRetido>\n",
      "            <tc:ValorIss>0</tc:ValorIss>\n",
      "            <tc:ValorIssRetido>0</tc:ValorIssRetido>\n",
      "            <tc:OutrasRetencoes>0</tc:OutrasRetencoes>\n",
      "            <tc:BaseCalculo>100</tc:BaseCalculo>\n",
      "            <tc:Aliquota>2</tc:Aliquota>\n",
      "            <tc:ValorLiquidoNfse>100</tc:ValorLiquidoNfse>\n",
      "            <tc:DescontoIncondicionado>0</tc:DescontoIncondicionado>\n",
      "            <tc:DescontoCondicionado>0</tc:DescontoCondicionado>\n",
      "        </tc:Valores>\n",
      "        <tc:ItemListaServico>105</tc:ItemListaServico>\n",
      "        <tc:CodigoTributacaoMunicipio>6311900</tc:CodigoTributacaoMunicipio>\n",
      "        <tc:Discriminacao>[ODOO_DEV] Customized Odoo Development</tc:Discriminacao>\n",
      "        <tc:MunicipioPrestacaoServico>3132404</tc:MunicipioPrestacaoServico>\n",
      "    </tc:Servico>\n",
      "    <tc:Prestador>\n",
      "        <tc:CpfCnpj>\n",
      "            <tc:Cnpj>59594315000157</tc:Cnpj>\n",
      "        </tc:CpfCnpj>\n",
      "        <tc:InscricaoMunicipal>35172</tc:InscricaoMunicipal>\n",
      "    </tc:Prestador>\n",
      "    <tc:Tomador>\n",
      "        <tc:IdentificacaoTomador>\n",
      "            <tc:CpfCnpj>\n",
      "                <tc:Cnpj>81493979000189</tc:Cnpj>\n",
      "            </tc:CpfCnpj>\n",
      "        </tc:IdentificacaoTomador>\n",
      "        <tc:RazaoSocial>Cliente 1 SP</tc:RazaoSocial>\n",
      "        <tc:Endereco>\n",
      "            <tc:Endereco>Rua Samuel Morse</tc:Endereco>\n",
      "            <tc:Numero>135</tc:Numero>\n",
      "            <tc:Bairro>Brooklin</tc:Bairro>\n",
      "            <tc:Cidade>3550308</tc:Cidade>\n",
      "            <tc:Estado>SP</tc:Estado>\n",
      "            <tc:Cep>4576060</tc:Cep>\n",
      "        </tc:Endereco>\n",
      "    </tc:Tomador>\n",
      "</tc:InfRps>\n"
     ]
    }
   ],
   "source": [
    "obj.LoteRps.ListaRps.Rps\n",
    "\n",
    "for rps in obj.LoteRps.ListaRps.Rps:\n",
    "    InfRps = rps.InfRps\n",
    "    InfRps.export(sys.stdout,0)\n",
    "    \n",
    "    InfRps.IdentificacaoRps.Numero\n"
   ]
  },
  {
   "cell_type": "code",
   "execution_count": 60,
   "metadata": {},
   "outputs": [
    {
     "data": {
      "text/plain": [
       "50"
      ]
     },
     "execution_count": 60,
     "metadata": {},
     "output_type": "execute_result"
    }
   ],
   "source": [
    "InfRps.IdentificacaoRps.Numero"
   ]
  },
  {
   "cell_type": "code",
   "execution_count": null,
   "metadata": {},
   "outputs": [],
   "source": []
  }
 ],
 "metadata": {
  "kernelspec": {
   "display_name": "Python 3",
   "language": "python",
   "name": "python3"
  },
  "language_info": {
   "codemirror_mode": {
    "name": "ipython",
    "version": 3
   },
   "file_extension": ".py",
   "mimetype": "text/x-python",
   "name": "python",
   "nbconvert_exporter": "python",
   "pygments_lexer": "ipython3",
   "version": "3.8.5"
  }
 },
 "nbformat": 4,
 "nbformat_minor": 4
}
